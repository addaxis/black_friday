{
 "cells": [
  {
   "cell_type": "markdown",
   "id": "960aab50-08a9-4b62-b23d-37da6f92a1d6",
   "metadata": {},
   "source": [
    "# Black Friday Dataset Model Building"
   ]
  },
  {
   "cell_type": "code",
   "execution_count": 1,
   "id": "76f226fb-8f33-4af2-95b2-43be87308bca",
   "metadata": {},
   "outputs": [],
   "source": [
    "import pandas as pd\n",
    "import numpy as np\n",
    "from sklearn.model_selection import train_test_split, cross_val_score,KFold\n",
    "from sklearn.model_selection import RandomizedSearchCV,GridSearchCV\n",
    "from sklearn.linear_model import LinearRegression\n",
    "from sklearn.ensemble import RandomForestRegressor\n",
    "from sklearn.metrics import mean_squared_error,mean_absolute_error\n",
    "import xgboost as xgb\n",
    "\n",
    "import joblib"
   ]
  },
  {
   "cell_type": "markdown",
   "id": "e4e7996b-3695-4401-ae32-7b538d99f5bb",
   "metadata": {},
   "source": [
    "## Loading Pre-processed Dataset from BigQuery "
   ]
  },
  {
   "cell_type": "code",
   "execution_count": 2,
   "id": "32d01f11-c15d-4dc7-8685-9dc3ca0e025d",
   "metadata": {},
   "outputs": [
    {
     "name": "stdout",
     "output_type": "stream",
     "text": [
      "The google.cloud.bigquery extension is already loaded. To reload it, use:\n",
      "  %reload_ext google.cloud.bigquery\n"
     ]
    }
   ],
   "source": [
    "%load_ext google.cloud.bigquery"
   ]
  },
  {
   "cell_type": "code",
   "execution_count": 3,
   "id": "08e04e42-8b6d-4b68-adff-b3785d4310a8",
   "metadata": {},
   "outputs": [
    {
     "data": {
      "application/vnd.jupyter.widget-view+json": {
       "model_id": "2c70120ec086447e801004755ee79fe0",
       "version_major": 2,
       "version_minor": 0
      },
      "text/plain": [
       "Query is running:   0%|          |"
      ]
     },
     "metadata": {},
     "output_type": "display_data"
    },
    {
     "data": {
      "application/vnd.jupyter.widget-view+json": {
       "model_id": "40b08cbaa3424c0d90c82c68f4633ae1",
       "version_major": 2,
       "version_minor": 0
      },
      "text/plain": [
       "Downloading:   0%|          |"
      ]
     },
     "metadata": {},
     "output_type": "display_data"
    }
   ],
   "source": [
    "%%bigquery train_df\n",
    "SELECT * FROM `aa-ai-specialisation.black_friday.preprocessed_train_df`"
   ]
  },
  {
   "cell_type": "code",
   "execution_count": 4,
   "id": "7efd7a46-000c-4b7a-8223-946eded2ee63",
   "metadata": {},
   "outputs": [
    {
     "data": {
      "application/vnd.jupyter.widget-view+json": {
       "model_id": "1ff8a0c037e54dc585de58153ee5fce7",
       "version_major": 2,
       "version_minor": 0
      },
      "text/plain": [
       "Query is running:   0%|          |"
      ]
     },
     "metadata": {},
     "output_type": "display_data"
    },
    {
     "data": {
      "application/vnd.jupyter.widget-view+json": {
       "model_id": "c330cc4c6de14a17803fbb8f3e1ddd55",
       "version_major": 2,
       "version_minor": 0
      },
      "text/plain": [
       "Downloading:   0%|          |"
      ]
     },
     "metadata": {},
     "output_type": "display_data"
    }
   ],
   "source": [
    "%%bigquery test_df\n",
    "SELECT * FROM `aa-ai-specialisation.black_friday.preprocessed_test_df`"
   ]
  },
  {
   "cell_type": "code",
   "execution_count": 5,
   "id": "cde9095a-c080-4c74-8d6f-0bb55ecf1cb2",
   "metadata": {},
   "outputs": [],
   "source": [
    "train_df_copy = train_df.copy()\n",
    "test_df_copy = test_df.copy()\n",
    "\n",
    "X= train_df_copy.drop(columns=['User_ID', 'Product_ID','Purchase'])\n",
    "y = train_df_copy['Purchase'].astype(int)"
   ]
  },
  {
   "cell_type": "code",
   "execution_count": 6,
   "id": "29a0f071-1bb1-4063-ac00-3a5590b7492b",
   "metadata": {},
   "outputs": [],
   "source": [
    "X_train, X_test, y_train, y_test = train_test_split(X, y, test_size=0.2, random_state=42, shuffle=True)"
   ]
  },
  {
   "cell_type": "markdown",
   "id": "0d632174-c894-4ccd-a8eb-dc164519cfa4",
   "metadata": {},
   "source": [
    "## Linear Regression Model"
   ]
  },
  {
   "cell_type": "code",
   "execution_count": 7,
   "id": "0ea1c51c-476f-440b-b3cb-df73019a9cc0",
   "metadata": {},
   "outputs": [
    {
     "name": "stdout",
     "output_type": "stream",
     "text": [
      "Mean Absolute Error: 3511.1271018255425\n",
      "Root Mean Squared Error: 4616.707666158212\n"
     ]
    }
   ],
   "source": [
    "\n",
    "# Initialize the model\n",
    "model = LinearRegression()\n",
    "\n",
    "# Fit the model\n",
    "model.fit(X_train, y_train)\n",
    "\n",
    "# Predict on the test set\n",
    "y_pred = model.predict(X_test)\n",
    "\n",
    "# Calculate RMSE and append to list\n",
    "rmse = np.sqrt(mean_squared_error(y_test, y_pred))\n",
    "print('Mean Absolute Error:', mean_absolute_error(y_test, y_pred))\n",
    "print('Root Mean Squared Error:', np.sqrt(mean_squared_error(y_test, y_pred)))"
   ]
  },
  {
   "cell_type": "markdown",
   "id": "299b8ebc-82b4-497a-9277-d7fd3b725c58",
   "metadata": {},
   "source": [
    "### Save the Model Checkpoint to Loacal Folder"
   ]
  },
  {
   "cell_type": "code",
   "execution_count": 8,
   "id": "bfc589cd-74fd-4fea-82d8-21be51eb1e07",
   "metadata": {},
   "outputs": [
    {
     "data": {
      "text/plain": [
       "['./model_checkpoints/linear_regresssion_model.joblib']"
      ]
     },
     "execution_count": 8,
     "metadata": {},
     "output_type": "execute_result"
    }
   ],
   "source": [
    "# Save the model locally\n",
    "joblib.dump(model, './model_checkpoints/linear_regresssion_model.joblib')"
   ]
  },
  {
   "cell_type": "markdown",
   "id": "9d1d32c9-f891-4d6f-a7e9-99f49e1b74bd",
   "metadata": {},
   "source": [
    "## Random Forest with Cross-validation\n",
    "- Cross"
   ]
  },
  {
   "cell_type": "code",
   "execution_count": 12,
   "id": "861e7ed5-9c82-4554-874f-09e392f77cb6",
   "metadata": {},
   "outputs": [
    {
     "name": "stdout",
     "output_type": "stream",
     "text": [
      "Best parameters found: {'n_estimators': 200, 'min_samples_split': 2, 'min_samples_leaf': 2, 'max_features': 'auto', 'max_depth': 20}\n"
     ]
    }
   ],
   "source": [
    "# Define the parameter distribution\n",
    "param_dist = {\n",
    "    'n_estimators': [50, 100, 200],\n",
    "    'max_depth': [10, 20, None],\n",
    "    'min_samples_split': [2, 5, 10],\n",
    "    'min_samples_leaf': [1, 2, 4],\n",
    "    'max_features': ['auto', 'sqrt']\n",
    "}\n",
    "\n",
    "# Initialize the model\n",
    "rf_model = RandomForestRegressor(n_jobs=-1, random_state=20)\n",
    "\n",
    "# Set up the randomized search with 5-fold cross-validation\n",
    "random_search = RandomizedSearchCV(estimator=rf_model, param_distributions=param_dist, n_iter=10, cv=5, scoring='neg_mean_squared_error', n_jobs=-1, random_state=20)\n",
    "\n",
    "# Fit the random search to the data\n",
    "random_search.fit(X, y)\n",
    "\n",
    "# Get the best parameters\n",
    "best_params = random_search.best_params_\n",
    "print(f'Best parameters found: {best_params}')\n"
   ]
  },
  {
   "cell_type": "code",
   "execution_count": 16,
   "id": "81c1176c-e36c-448e-be76-3966540c67cc",
   "metadata": {},
   "outputs": [],
   "source": [
    "best_params = {'n_estimators': 200, 'min_samples_split': 2, 'min_samples_leaf': 2, 'max_features': 'auto', 'max_depth': 20}"
   ]
  },
  {
   "cell_type": "code",
   "execution_count": 17,
   "id": "fa6f3c10-9501-41e8-8cdf-7d75f418c5a6",
   "metadata": {},
   "outputs": [
    {
     "name": "stdout",
     "output_type": "stream",
     "text": [
      "Mean Absolute Error: 2159.807366154734\n",
      "Root Mean Squared Error: 2920.5985431351137\n"
     ]
    }
   ],
   "source": [
    "# Initialize the model with the best parameters\n",
    "best_rf_model = RandomForestRegressor(\n",
    "    n_estimators=best_params['n_estimators'],\n",
    "    min_samples_split=best_params['min_samples_split'],\n",
    "    min_samples_leaf=best_params['min_samples_leaf'],\n",
    "    max_features=best_params['max_features'],\n",
    "    max_depth=best_params['max_depth'],\n",
    "    n_jobs=-1,\n",
    "    random_state=20\n",
    ")\n",
    "best_rf_model.fit(X_train, y_train)\n",
    "y_pred = best_rf_model.predict(X_test)\n",
    "\n",
    "# Calculate RMSE\n",
    "rmse = np.sqrt(mean_squared_error(y_test, y_pred))\n",
    "print('Mean Absolute Error:', mean_absolute_error(y_test, y_pred))\n",
    "print(f'Root Mean Squared Error: {rmse}')"
   ]
  },
  {
   "cell_type": "markdown",
   "id": "a1ccb24c-e054-40ec-bb81-9783801013c0",
   "metadata": {},
   "source": [
    "### Save the Model Checkpoint to Loacal Folder"
   ]
  },
  {
   "cell_type": "code",
   "execution_count": 18,
   "id": "b209d2f9-9c48-4248-a386-de3a73261067",
   "metadata": {},
   "outputs": [
    {
     "data": {
      "text/plain": [
       "['./model_checkpoints/random_forest_model.joblib']"
      ]
     },
     "execution_count": 18,
     "metadata": {},
     "output_type": "execute_result"
    }
   ],
   "source": [
    "# Save the model locally\n",
    "joblib.dump(best_rf_model, './model_checkpoints/random_forest_model.joblib')"
   ]
  },
  {
   "cell_type": "markdown",
   "id": "9f70b840-24e3-4a9b-9931-0f2e75a58874",
   "metadata": {},
   "source": [
    "## XGBOOST"
   ]
  },
  {
   "cell_type": "code",
   "execution_count": null,
   "id": "55cf0b73-731d-413b-b810-96ff89b0b3a2",
   "metadata": {},
   "outputs": [],
   "source": [
    "# Initialize the XGBRegressor\n",
    "model = xgb.XGBRegressor(objective='reg:squarederror', random_state=42, enable_categorical=True, tree_method='hist')\n",
    "\n",
    "# Define the range of parameters to search\n",
    "parameters = {\n",
    "    'max_depth': range(3, 7, 2),  # Searching in steps of 2 from 3 to 7\n",
    "    'learning_rate': [0.01, 0.05, 0.1],\n",
    "    'n_estimators': range(100, 301, 50),  \n",
    "    'subsample': [0.8, 0.9, 1],\n",
    "    'colsample_bytree': [0.8, 0.9, 1]\n",
    "}\n",
    "\n",
    "# Grid search for the optimal parameters\n",
    "grid_search = GridSearchCV(model, parameters, cv=5, scoring='neg_mean_squared_error', n_jobs=-1, verbose=1)\n",
    "grid_search.fit(X_train, y_train)\n",
    "\n",
    "# Retrieve the best parameters\n",
    "best_params = grid_search.best_params_\n",
    "print(f'Best parameters found: {best_params}')\n"
   ]
  },
  {
   "cell_type": "code",
   "execution_count": 8,
   "id": "d93d62bb-402c-4db3-b2fe-daa22592e91b",
   "metadata": {},
   "outputs": [],
   "source": [
    "best_params = {'colsample_bytree': 0.9, 'learning_rate': 0.1, 'max_depth': 7, 'n_estimators': 200, 'subsample': 1}"
   ]
  },
  {
   "cell_type": "code",
   "execution_count": 9,
   "id": "98ebba0d-004d-4522-9203-8f5041180176",
   "metadata": {},
   "outputs": [
    {
     "data": {
      "text/plain": [
       "XGBRegressor(base_score=0.5, booster='gbtree', callbacks=None,\n",
       "             colsample_bylevel=1, colsample_bynode=1, colsample_bytree=0.9,\n",
       "             early_stopping_rounds=None, enable_categorical=False,\n",
       "             eval_metric=None, gamma=0, gpu_id=-1, grow_policy='depthwise',\n",
       "             importance_type=None, interaction_constraints='',\n",
       "             learning_rate=0.1, max_bin=256, max_cat_to_onehot=4,\n",
       "             max_delta_step=0, max_depth=7, max_leaves=0, min_child_weight=1,\n",
       "             missing=nan, monotone_constraints='()', n_estimators=200, n_jobs=0,\n",
       "             num_parallel_tree=1, predictor='auto', random_state=42,\n",
       "             reg_alpha=0, reg_lambda=1, ...)"
      ]
     },
     "execution_count": 9,
     "metadata": {},
     "output_type": "execute_result"
    }
   ],
   "source": [
    "best_model = xgb.XGBRegressor(**best_params, objective='reg:squarederror', random_state=42)\n",
    "best_model.fit(X_train, y_train)"
   ]
  },
  {
   "cell_type": "code",
   "execution_count": 10,
   "id": "4bdb74d3-6f10-4a74-b5fb-232d5aac561b",
   "metadata": {},
   "outputs": [
    {
     "name": "stdout",
     "output_type": "stream",
     "text": [
      "Mean Absolute Error: 2113.8786834331513\n",
      "Root Mean Squared Error: 2825.5656856973783\n"
     ]
    }
   ],
   "source": [
    "y_pred_train = best_model.predict(X_train)\n",
    "rmse = np.sqrt(mean_squared_error(y_train, y_pred_train))\n",
    "\n",
    "\n",
    "print('Mean Absolute Error:', mean_absolute_error(y_train, y_pred_train))\n",
    "print(f'Root Mean Squared Error: {rmse}')"
   ]
  },
  {
   "cell_type": "code",
   "execution_count": 31,
   "id": "8a594a4e-713c-4142-a319-ca61e38decc8",
   "metadata": {},
   "outputs": [
    {
     "name": "stdout",
     "output_type": "stream",
     "text": [
      "Mean Absolute Error: 2142.1320054467706\n",
      "Root Mean Squared Error: 2870.9729278111936\n"
     ]
    }
   ],
   "source": [
    "# # Validation set evaluation\n",
    "# y_pred_val = best_model.predict(X_val)\n",
    "# rmse_val = np.sqrt(mean_squared_error(y_val, y_pred_val))\n",
    "\n",
    "# Test set evaluation\n",
    "y_pred_test = best_model.predict(X_test)\n",
    "rmse = np.sqrt(mean_squared_error(y_test, y_pred_test))\n",
    "\n",
    "\n",
    "print('Mean Absolute Error:', mean_absolute_error(y_test, y_pred_test))\n",
    "print(f'Root Mean Squared Error: {rmse}')"
   ]
  },
  {
   "cell_type": "code",
   "execution_count": 32,
   "id": "4087e7f1-6951-4a50-8b3f-80e7149b84d8",
   "metadata": {},
   "outputs": [
    {
     "data": {
      "text/plain": [
       "67.28519140186616"
      ]
     },
     "execution_count": 32,
     "metadata": {},
     "output_type": "execute_result"
    }
   ],
   "source": [
    "best_model.score(X_test,y_test)*100"
   ]
  },
  {
   "cell_type": "code",
   "execution_count": 33,
   "id": "576117db-fd9a-4ecc-bcda-617ffde76efc",
   "metadata": {},
   "outputs": [
    {
     "name": "stdout",
     "output_type": "stream",
     "text": [
      "[12:07:49] WARNING: ../src/learner.cc:627: \n",
      "Parameters: { \"n_estimators\" } might not be used.\n",
      "\n",
      "  This could be a false alarm, with some parameters getting used by language bindings but\n",
      "  then being mistakenly passed down to XGBoost core, or some parameter actually being used\n",
      "  but getting flagged wrongly here. Please open an issue if you find any such cases.\n",
      "\n",
      "\n",
      "[12:07:49] WARNING: ../src/learner.cc:627: \n",
      "Parameters: { \"n_estimators\" } might not be used.\n",
      "\n",
      "  This could be a false alarm, with some parameters getting used by language bindings but\n",
      "  then being mistakenly passed down to XGBoost core, or some parameter actually being used\n",
      "  but getting flagged wrongly here. Please open an issue if you find any such cases.\n",
      "\n",
      "\n",
      "[12:07:49] WARNING: ../src/learner.cc:627: \n",
      "Parameters: { \"n_estimators\" } might not be used.\n",
      "\n",
      "  This could be a false alarm, with some parameters getting used by language bindings but\n",
      "  then being mistakenly passed down to XGBoost core, or some parameter actually being used\n",
      "  but getting flagged wrongly here. Please open an issue if you find any such cases.\n",
      "\n",
      "\n",
      "[12:07:50] WARNING: ../src/learner.cc:627: \n",
      "Parameters: { \"n_estimators\" } might not be used.\n",
      "\n",
      "  This could be a false alarm, with some parameters getting used by language bindings but\n",
      "  then being mistakenly passed down to XGBoost core, or some parameter actually being used\n",
      "  but getting flagged wrongly here. Please open an issue if you find any such cases.\n",
      "\n",
      "\n",
      "[12:07:50] WARNING: ../src/learner.cc:627: \n",
      "Parameters: { \"n_estimators\" } might not be used.\n",
      "\n",
      "  This could be a false alarm, with some parameters getting used by language bindings but\n",
      "  then being mistakenly passed down to XGBoost core, or some parameter actually being used\n",
      "  but getting flagged wrongly here. Please open an issue if you find any such cases.\n",
      "\n",
      "\n"
     ]
    }
   ],
   "source": [
    "dtrain = xgb.DMatrix(X_train, label=y_train)\n",
    "cv_results = xgb.cv(\n",
    "    best_params,\n",
    "    dtrain,\n",
    "    num_boost_round=100,\n",
    "    nfold=5,\n",
    "    metrics={'rmse'},\n",
    "    early_stopping_rounds=10,\n",
    "    seed=42\n",
    ")"
   ]
  },
  {
   "cell_type": "code",
   "execution_count": 34,
   "id": "6eafc8e8-2117-471d-b2f6-f08db6aa7281",
   "metadata": {},
   "outputs": [
    {
     "data": {
      "text/html": [
       "<div>\n",
       "<style scoped>\n",
       "    .dataframe tbody tr th:only-of-type {\n",
       "        vertical-align: middle;\n",
       "    }\n",
       "\n",
       "    .dataframe tbody tr th {\n",
       "        vertical-align: top;\n",
       "    }\n",
       "\n",
       "    .dataframe thead th {\n",
       "        text-align: right;\n",
       "    }\n",
       "</style>\n",
       "<table border=\"1\" class=\"dataframe\">\n",
       "  <thead>\n",
       "    <tr style=\"text-align: right;\">\n",
       "      <th></th>\n",
       "      <th>train-rmse-mean</th>\n",
       "      <th>train-rmse-std</th>\n",
       "      <th>test-rmse-mean</th>\n",
       "      <th>test-rmse-std</th>\n",
       "    </tr>\n",
       "  </thead>\n",
       "  <tbody>\n",
       "    <tr>\n",
       "      <th>0</th>\n",
       "      <td>9572.896075</td>\n",
       "      <td>5.356484</td>\n",
       "      <td>9572.982124</td>\n",
       "      <td>22.364517</td>\n",
       "    </tr>\n",
       "    <tr>\n",
       "      <th>1</th>\n",
       "      <td>8732.464775</td>\n",
       "      <td>39.911316</td>\n",
       "      <td>8732.552925</td>\n",
       "      <td>38.620628</td>\n",
       "    </tr>\n",
       "    <tr>\n",
       "      <th>2</th>\n",
       "      <td>7986.487008</td>\n",
       "      <td>76.953759</td>\n",
       "      <td>7986.532867</td>\n",
       "      <td>72.242463</td>\n",
       "    </tr>\n",
       "    <tr>\n",
       "      <th>3</th>\n",
       "      <td>7304.064595</td>\n",
       "      <td>67.903587</td>\n",
       "      <td>7304.344902</td>\n",
       "      <td>63.510226</td>\n",
       "    </tr>\n",
       "    <tr>\n",
       "      <th>4</th>\n",
       "      <td>6713.481973</td>\n",
       "      <td>58.736967</td>\n",
       "      <td>6713.913744</td>\n",
       "      <td>58.687923</td>\n",
       "    </tr>\n",
       "    <tr>\n",
       "      <th>...</th>\n",
       "      <td>...</td>\n",
       "      <td>...</td>\n",
       "      <td>...</td>\n",
       "      <td>...</td>\n",
       "    </tr>\n",
       "    <tr>\n",
       "      <th>95</th>\n",
       "      <td>2863.246351</td>\n",
       "      <td>2.810668</td>\n",
       "      <td>2887.877247</td>\n",
       "      <td>10.428463</td>\n",
       "    </tr>\n",
       "    <tr>\n",
       "      <th>96</th>\n",
       "      <td>2862.965179</td>\n",
       "      <td>2.806766</td>\n",
       "      <td>2887.757955</td>\n",
       "      <td>10.365021</td>\n",
       "    </tr>\n",
       "    <tr>\n",
       "      <th>97</th>\n",
       "      <td>2862.628603</td>\n",
       "      <td>2.846193</td>\n",
       "      <td>2887.627973</td>\n",
       "      <td>10.327412</td>\n",
       "    </tr>\n",
       "    <tr>\n",
       "      <th>98</th>\n",
       "      <td>2862.199993</td>\n",
       "      <td>2.665235</td>\n",
       "      <td>2887.367921</td>\n",
       "      <td>10.427918</td>\n",
       "    </tr>\n",
       "    <tr>\n",
       "      <th>99</th>\n",
       "      <td>2861.691669</td>\n",
       "      <td>2.907097</td>\n",
       "      <td>2887.037608</td>\n",
       "      <td>10.230822</td>\n",
       "    </tr>\n",
       "  </tbody>\n",
       "</table>\n",
       "<p>100 rows × 4 columns</p>\n",
       "</div>"
      ],
      "text/plain": [
       "    train-rmse-mean  train-rmse-std  test-rmse-mean  test-rmse-std\n",
       "0       9572.896075        5.356484     9572.982124      22.364517\n",
       "1       8732.464775       39.911316     8732.552925      38.620628\n",
       "2       7986.487008       76.953759     7986.532867      72.242463\n",
       "3       7304.064595       67.903587     7304.344902      63.510226\n",
       "4       6713.481973       58.736967     6713.913744      58.687923\n",
       "..              ...             ...             ...            ...\n",
       "95      2863.246351        2.810668     2887.877247      10.428463\n",
       "96      2862.965179        2.806766     2887.757955      10.365021\n",
       "97      2862.628603        2.846193     2887.627973      10.327412\n",
       "98      2862.199993        2.665235     2887.367921      10.427918\n",
       "99      2861.691669        2.907097     2887.037608      10.230822\n",
       "\n",
       "[100 rows x 4 columns]"
      ]
     },
     "execution_count": 34,
     "metadata": {},
     "output_type": "execute_result"
    }
   ],
   "source": [
    "cv_results"
   ]
  },
  {
   "cell_type": "code",
   "execution_count": 13,
   "id": "1070be6f-13aa-41aa-b68c-b4072a77c995",
   "metadata": {},
   "outputs": [
    {
     "data": {
      "text/plain": [
       "['./model_checkpoints/xgboost_model.joblib']"
      ]
     },
     "execution_count": 13,
     "metadata": {},
     "output_type": "execute_result"
    }
   ],
   "source": [
    "# Save the model locally\n",
    "joblib.dump(best_model, './model_checkpoints/xgboost_model.joblib')"
   ]
  },
  {
   "cell_type": "code",
   "execution_count": 23,
   "id": "5b36496a-717f-47f1-ac02-a67c8d159bff",
   "metadata": {},
   "outputs": [],
   "source": [
    "# Save the model in xgboost format\n",
    "best_model.save_model('./model_checkpoints/model.bst')"
   ]
  }
 ],
 "metadata": {
  "environment": {
   "kernel": "python3",
   "name": "common-cpu.m111",
   "type": "gcloud",
   "uri": "gcr.io/deeplearning-platform-release/base-cpu:m111"
  },
  "kernelspec": {
   "display_name": "Python 3",
   "language": "python",
   "name": "python3"
  },
  "language_info": {
   "codemirror_mode": {
    "name": "ipython",
    "version": 3
   },
   "file_extension": ".py",
   "mimetype": "text/x-python",
   "name": "python",
   "nbconvert_exporter": "python",
   "pygments_lexer": "ipython3",
   "version": "3.7.12"
  }
 },
 "nbformat": 4,
 "nbformat_minor": 5
}
