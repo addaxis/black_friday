{
 "cells": [
  {
   "cell_type": "code",
   "execution_count": 2,
   "id": "a79e5148-1fc5-4640-bf2d-740c4c97fade",
   "metadata": {},
   "outputs": [],
   "source": [
    "from google.cloud import aiplatform"
   ]
  },
  {
   "cell_type": "code",
   "execution_count": 3,
   "id": "edf5a93b-952d-42e2-986a-ee7dee6f8ab0",
   "metadata": {},
   "outputs": [],
   "source": [
    "# Initialize the AI Platform client with your project and location\n",
    "project = \"aa-ai-specialisation\"\n",
    "location = \"us-central1\"\n",
    "endpoint_id = \"5557804779012358144\"\n",
    "endpoint = f\"{location}-aiplatform.googleapis.com\"\n",
    "client_options = {\"api_endpoint\": endpoint}"
   ]
  },
  {
   "cell_type": "code",
   "execution_count": 4,
   "id": "43aff7a9-f201-43cb-b4a8-9c9966f35686",
   "metadata": {},
   "outputs": [],
   "source": [
    "def endpoint_predict_sample(\n",
    "    project: str, location: str, instances: list, endpoint: str\n",
    "):\n",
    "    aiplatform.init(project=project, location=location)\n",
    "\n",
    "    endpoint = aiplatform.Endpoint(endpoint)\n",
    "\n",
    "    prediction = endpoint.predict(instances=instances)\n",
    "    return prediction.predictions"
   ]
  },
  {
   "cell_type": "code",
   "execution_count": 5,
   "id": "1c4dea68-84ec-4033-9bd9-3c67c56564de",
   "metadata": {},
   "outputs": [
    {
     "name": "stdout",
     "output_type": "stream",
     "text": [
      "The google.cloud.bigquery extension is already loaded. To reload it, use:\n",
      "  %reload_ext google.cloud.bigquery\n"
     ]
    }
   ],
   "source": [
    "%load_ext google.cloud.bigquery"
   ]
  },
  {
   "cell_type": "code",
   "execution_count": 6,
   "id": "fb06c4c7-1674-41d0-afbd-42f3207a9370",
   "metadata": {},
   "outputs": [
    {
     "data": {
      "application/vnd.jupyter.widget-view+json": {
       "model_id": "842e38c8dc464f5a8b09d6bcbefbb4d5",
       "version_major": 2,
       "version_minor": 0
      },
      "text/plain": [
       "Query is running:   0%|          |"
      ]
     },
     "metadata": {},
     "output_type": "display_data"
    },
    {
     "data": {
      "application/vnd.jupyter.widget-view+json": {
       "model_id": "5507cb9843ae449c8bb83bb68f03c55a",
       "version_major": 2,
       "version_minor": 0
      },
      "text/plain": [
       "Downloading:   0%|          |"
      ]
     },
     "metadata": {},
     "output_type": "display_data"
    }
   ],
   "source": [
    "%%bigquery train_df\n",
    "SELECT * FROM `aa-ai-specialisation.black_friday.preprocessed_train_df`"
   ]
  },
  {
   "cell_type": "code",
   "execution_count": 6,
   "id": "391f40ec-6a52-4e29-97bc-54ee8fa76ca3",
   "metadata": {},
   "outputs": [
    {
     "data": {
      "text/html": [
       "<div>\n",
       "<style scoped>\n",
       "    .dataframe tbody tr th:only-of-type {\n",
       "        vertical-align: middle;\n",
       "    }\n",
       "\n",
       "    .dataframe tbody tr th {\n",
       "        vertical-align: top;\n",
       "    }\n",
       "\n",
       "    .dataframe thead th {\n",
       "        text-align: right;\n",
       "    }\n",
       "</style>\n",
       "<table border=\"1\" class=\"dataframe\">\n",
       "  <thead>\n",
       "    <tr style=\"text-align: right;\">\n",
       "      <th></th>\n",
       "      <th>User_ID</th>\n",
       "      <th>Product_ID</th>\n",
       "      <th>Gender</th>\n",
       "      <th>Age</th>\n",
       "      <th>Occupation</th>\n",
       "      <th>Stay_In_Current_City_Years</th>\n",
       "      <th>Marital_Status</th>\n",
       "      <th>Product_Category_1</th>\n",
       "      <th>Product_Category_2</th>\n",
       "      <th>Product_Category_3</th>\n",
       "      <th>Purchase</th>\n",
       "      <th>missing_Product_Category_2</th>\n",
       "      <th>missing_Product_Category_3</th>\n",
       "      <th>City_A</th>\n",
       "      <th>City_B</th>\n",
       "      <th>City_C</th>\n",
       "    </tr>\n",
       "  </thead>\n",
       "  <tbody>\n",
       "    <tr>\n",
       "      <th>0</th>\n",
       "      <td>1003521</td>\n",
       "      <td>P00350942</td>\n",
       "      <td>0</td>\n",
       "      <td>2</td>\n",
       "      <td>0</td>\n",
       "      <td>3</td>\n",
       "      <td>0</td>\n",
       "      <td>3</td>\n",
       "      <td>4</td>\n",
       "      <td>5</td>\n",
       "      <td>10718</td>\n",
       "      <td>0</td>\n",
       "      <td>0</td>\n",
       "      <td>0</td>\n",
       "      <td>1</td>\n",
       "      <td>0</td>\n",
       "    </tr>\n",
       "    <tr>\n",
       "      <th>1</th>\n",
       "      <td>1003521</td>\n",
       "      <td>P00295942</td>\n",
       "      <td>0</td>\n",
       "      <td>2</td>\n",
       "      <td>0</td>\n",
       "      <td>3</td>\n",
       "      <td>0</td>\n",
       "      <td>2</td>\n",
       "      <td>5</td>\n",
       "      <td>15</td>\n",
       "      <td>13002</td>\n",
       "      <td>0</td>\n",
       "      <td>0</td>\n",
       "      <td>0</td>\n",
       "      <td>1</td>\n",
       "      <td>0</td>\n",
       "    </tr>\n",
       "    <tr>\n",
       "      <th>2</th>\n",
       "      <td>1003521</td>\n",
       "      <td>P00086042</td>\n",
       "      <td>0</td>\n",
       "      <td>2</td>\n",
       "      <td>0</td>\n",
       "      <td>3</td>\n",
       "      <td>0</td>\n",
       "      <td>8</td>\n",
       "      <td>14</td>\n",
       "      <td>17</td>\n",
       "      <td>9764</td>\n",
       "      <td>0</td>\n",
       "      <td>0</td>\n",
       "      <td>0</td>\n",
       "      <td>1</td>\n",
       "      <td>0</td>\n",
       "    </tr>\n",
       "    <tr>\n",
       "      <th>3</th>\n",
       "      <td>1003521</td>\n",
       "      <td>P00086442</td>\n",
       "      <td>0</td>\n",
       "      <td>2</td>\n",
       "      <td>0</td>\n",
       "      <td>3</td>\n",
       "      <td>0</td>\n",
       "      <td>8</td>\n",
       "      <td>13</td>\n",
       "      <td>15</td>\n",
       "      <td>7904</td>\n",
       "      <td>0</td>\n",
       "      <td>0</td>\n",
       "      <td>0</td>\n",
       "      <td>1</td>\n",
       "      <td>0</td>\n",
       "    </tr>\n",
       "    <tr>\n",
       "      <th>4</th>\n",
       "      <td>1003521</td>\n",
       "      <td>P00192042</td>\n",
       "      <td>0</td>\n",
       "      <td>2</td>\n",
       "      <td>0</td>\n",
       "      <td>3</td>\n",
       "      <td>0</td>\n",
       "      <td>5</td>\n",
       "      <td>9</td>\n",
       "      <td>14</td>\n",
       "      <td>5328</td>\n",
       "      <td>0</td>\n",
       "      <td>0</td>\n",
       "      <td>0</td>\n",
       "      <td>1</td>\n",
       "      <td>0</td>\n",
       "    </tr>\n",
       "    <tr>\n",
       "      <th>...</th>\n",
       "      <td>...</td>\n",
       "      <td>...</td>\n",
       "      <td>...</td>\n",
       "      <td>...</td>\n",
       "      <td>...</td>\n",
       "      <td>...</td>\n",
       "      <td>...</td>\n",
       "      <td>...</td>\n",
       "      <td>...</td>\n",
       "      <td>...</td>\n",
       "      <td>...</td>\n",
       "      <td>...</td>\n",
       "      <td>...</td>\n",
       "      <td>...</td>\n",
       "      <td>...</td>\n",
       "      <td>...</td>\n",
       "    </tr>\n",
       "    <tr>\n",
       "      <th>550063</th>\n",
       "      <td>1003261</td>\n",
       "      <td>P00324942</td>\n",
       "      <td>0</td>\n",
       "      <td>4</td>\n",
       "      <td>20</td>\n",
       "      <td>1</td>\n",
       "      <td>1</td>\n",
       "      <td>5</td>\n",
       "      <td>0</td>\n",
       "      <td>0</td>\n",
       "      <td>7061</td>\n",
       "      <td>1</td>\n",
       "      <td>1</td>\n",
       "      <td>0</td>\n",
       "      <td>1</td>\n",
       "      <td>0</td>\n",
       "    </tr>\n",
       "    <tr>\n",
       "      <th>550064</th>\n",
       "      <td>1003261</td>\n",
       "      <td>P00358742</td>\n",
       "      <td>0</td>\n",
       "      <td>4</td>\n",
       "      <td>20</td>\n",
       "      <td>1</td>\n",
       "      <td>1</td>\n",
       "      <td>5</td>\n",
       "      <td>0</td>\n",
       "      <td>0</td>\n",
       "      <td>5392</td>\n",
       "      <td>1</td>\n",
       "      <td>1</td>\n",
       "      <td>0</td>\n",
       "      <td>1</td>\n",
       "      <td>0</td>\n",
       "    </tr>\n",
       "    <tr>\n",
       "      <th>550065</th>\n",
       "      <td>1003261</td>\n",
       "      <td>P00116342</td>\n",
       "      <td>0</td>\n",
       "      <td>4</td>\n",
       "      <td>20</td>\n",
       "      <td>1</td>\n",
       "      <td>1</td>\n",
       "      <td>2</td>\n",
       "      <td>0</td>\n",
       "      <td>0</td>\n",
       "      <td>16489</td>\n",
       "      <td>1</td>\n",
       "      <td>1</td>\n",
       "      <td>0</td>\n",
       "      <td>1</td>\n",
       "      <td>0</td>\n",
       "    </tr>\n",
       "    <tr>\n",
       "      <th>550066</th>\n",
       "      <td>1003261</td>\n",
       "      <td>P00087442</td>\n",
       "      <td>0</td>\n",
       "      <td>4</td>\n",
       "      <td>20</td>\n",
       "      <td>1</td>\n",
       "      <td>1</td>\n",
       "      <td>5</td>\n",
       "      <td>0</td>\n",
       "      <td>0</td>\n",
       "      <td>7111</td>\n",
       "      <td>1</td>\n",
       "      <td>1</td>\n",
       "      <td>0</td>\n",
       "      <td>1</td>\n",
       "      <td>0</td>\n",
       "    </tr>\n",
       "    <tr>\n",
       "      <th>550067</th>\n",
       "      <td>1003261</td>\n",
       "      <td>P00372445</td>\n",
       "      <td>0</td>\n",
       "      <td>4</td>\n",
       "      <td>20</td>\n",
       "      <td>1</td>\n",
       "      <td>1</td>\n",
       "      <td>20</td>\n",
       "      <td>0</td>\n",
       "      <td>0</td>\n",
       "      <td>598</td>\n",
       "      <td>1</td>\n",
       "      <td>1</td>\n",
       "      <td>0</td>\n",
       "      <td>1</td>\n",
       "      <td>0</td>\n",
       "    </tr>\n",
       "  </tbody>\n",
       "</table>\n",
       "<p>550068 rows × 16 columns</p>\n",
       "</div>"
      ],
      "text/plain": [
       "        User_ID Product_ID  Gender  Age  Occupation  \\\n",
       "0       1003521  P00350942       0    2           0   \n",
       "1       1003521  P00295942       0    2           0   \n",
       "2       1003521  P00086042       0    2           0   \n",
       "3       1003521  P00086442       0    2           0   \n",
       "4       1003521  P00192042       0    2           0   \n",
       "...         ...        ...     ...  ...         ...   \n",
       "550063  1003261  P00324942       0    4          20   \n",
       "550064  1003261  P00358742       0    4          20   \n",
       "550065  1003261  P00116342       0    4          20   \n",
       "550066  1003261  P00087442       0    4          20   \n",
       "550067  1003261  P00372445       0    4          20   \n",
       "\n",
       "        Stay_In_Current_City_Years  Marital_Status  Product_Category_1  \\\n",
       "0                                3               0                   3   \n",
       "1                                3               0                   2   \n",
       "2                                3               0                   8   \n",
       "3                                3               0                   8   \n",
       "4                                3               0                   5   \n",
       "...                            ...             ...                 ...   \n",
       "550063                           1               1                   5   \n",
       "550064                           1               1                   5   \n",
       "550065                           1               1                   2   \n",
       "550066                           1               1                   5   \n",
       "550067                           1               1                  20   \n",
       "\n",
       "        Product_Category_2  Product_Category_3  Purchase  \\\n",
       "0                        4                   5     10718   \n",
       "1                        5                  15     13002   \n",
       "2                       14                  17      9764   \n",
       "3                       13                  15      7904   \n",
       "4                        9                  14      5328   \n",
       "...                    ...                 ...       ...   \n",
       "550063                   0                   0      7061   \n",
       "550064                   0                   0      5392   \n",
       "550065                   0                   0     16489   \n",
       "550066                   0                   0      7111   \n",
       "550067                   0                   0       598   \n",
       "\n",
       "        missing_Product_Category_2  missing_Product_Category_3  City_A  \\\n",
       "0                                0                           0       0   \n",
       "1                                0                           0       0   \n",
       "2                                0                           0       0   \n",
       "3                                0                           0       0   \n",
       "4                                0                           0       0   \n",
       "...                            ...                         ...     ...   \n",
       "550063                           1                           1       0   \n",
       "550064                           1                           1       0   \n",
       "550065                           1                           1       0   \n",
       "550066                           1                           1       0   \n",
       "550067                           1                           1       0   \n",
       "\n",
       "        City_B  City_C  \n",
       "0            1       0  \n",
       "1            1       0  \n",
       "2            1       0  \n",
       "3            1       0  \n",
       "4            1       0  \n",
       "...        ...     ...  \n",
       "550063       1       0  \n",
       "550064       1       0  \n",
       "550065       1       0  \n",
       "550066       1       0  \n",
       "550067       1       0  \n",
       "\n",
       "[550068 rows x 16 columns]"
      ]
     },
     "execution_count": 6,
     "metadata": {},
     "output_type": "execute_result"
    }
   ],
   "source": [
    "train_df"
   ]
  },
  {
   "cell_type": "code",
   "execution_count": 7,
   "id": "189d71b9-378e-48bc-b838-669a1cf5f3a8",
   "metadata": {},
   "outputs": [],
   "source": [
    "train_df_copy = train_df.copy()\n",
    "X= train_df_copy.drop(columns=['User_ID', 'Product_ID','Purchase'])\n",
    "y = train_df_copy['Purchase'].astype(int)"
   ]
  },
  {
   "cell_type": "code",
   "execution_count": 46,
   "id": "c61a685a-e0bc-4cc1-bbe9-7ea766b05b87",
   "metadata": {},
   "outputs": [
    {
     "data": {
      "text/plain": [
       "Gender                        0\n",
       "Age                           2\n",
       "Occupation                    0\n",
       "Stay_In_Current_City_Years    3\n",
       "Marital_Status                0\n",
       "Product_Category_1            3\n",
       "Product_Category_2            4\n",
       "Product_Category_3            5\n",
       "missing_Product_Category_2    0\n",
       "missing_Product_Category_3    0\n",
       "City_A                        0\n",
       "City_B                        1\n",
       "City_C                        0\n",
       "Name: 0, dtype: Int64"
      ]
     },
     "execution_count": 46,
     "metadata": {},
     "output_type": "execute_result"
    }
   ],
   "source": [
    "X.iloc[0]"
   ]
  },
  {
   "cell_type": "code",
   "execution_count": 13,
   "id": "12b9600f-71f4-44a4-8e15-c89d38bf414f",
   "metadata": {},
   "outputs": [
    {
     "data": {
      "text/plain": [
       "[[0, 2, 0, 3, 0, 3, 4, 5, 0, 0, 0, 1, 0]]"
      ]
     },
     "execution_count": 13,
     "metadata": {},
     "output_type": "execute_result"
    }
   ],
   "source": [
    "instances"
   ]
  },
  {
   "cell_type": "code",
   "execution_count": 114,
   "id": "8ac85f72-ec2d-4956-b48e-763e45441be6",
   "metadata": {},
   "outputs": [],
   "source": [
    "instances = [[1, 5, 0, 3, 0, 3, 4, 5, 0, 0, 0, 0, 1]]"
   ]
  },
  {
   "cell_type": "code",
   "execution_count": 115,
   "id": "237af2aa-826c-4785-97bf-da822fc6e4f7",
   "metadata": {},
   "outputs": [
    {
     "data": {
      "text/plain": [
       "3090.90478515625"
      ]
     },
     "execution_count": 128,
     "metadata": {},
     "output_type": "execute_result"
    }
   ],
   "source": [
    "prediction = endpoint_predict_sample(project, location, instances, endpoint_id)\n",
    "prediction[0]"
   ]
  },
  {
   "cell_type": "code",
   "execution_count": 7,
   "id": "707d712a-3ca0-4bdf-8851-e527e4e1c7a4",
   "metadata": {},
   "outputs": [],
   "source": [
    "genders = [0, 1]\n",
    "Age = [0, 1, 2, 3, 4, 5, 6]\n",
    "Occupation = [0,1,2,3,4,5,6,7,8,9,10,11,12,13,14,15,16,17,18,19,20]\n",
    "Stay_In_Current_City_Years = 3\n",
    "Marital_Status = [0, 1]\n",
    "Product_Category_1 = 3\n",
    "Product_Category_2 = 4\n",
    "Product_Category_3 = 5\n",
    "missing_Product_Category_2 = 0\n",
    "missing_Product_Category_3 = 0\n",
    "City = [0, 1, 2]\n",
    "ans = []\n",
    "instance_group = []\n",
    "for g in genders:\n",
    "    for a in Age:\n",
    "        for o in Occupation:\n",
    "            for m in Marital_Status:\n",
    "                for c in City:\n",
    "                    if c == 0:\n",
    "                        instances = [[g, a, o, Stay_In_Current_City_Years, m, Product_Category_1, Product_Category_2, Product_Category_3, missing_Product_Category_2, missing_Product_Category_3, 1, 0, 0]]\n",
    "                    elif c == 1:\n",
    "                        instances = [[g, a, o, Stay_In_Current_City_Years, m, Product_Category_1, Product_Category_2, Product_Category_3, missing_Product_Category_2, missing_Product_Category_3, 0, 1, 0]]\n",
    "                    elif c == 2:\n",
    "                        instances = [[g, a, o, Stay_In_Current_City_Years, m, Product_Category_1, Product_Category_2, Product_Category_3, missing_Product_Category_2, missing_Product_Category_3, 0, 0, 1]]\n",
    "                    ans.append((endpoint_predict_sample(project, location, instances, endpoint_id)[0], instances))"
   ]
  },
  {
   "cell_type": "code",
   "execution_count": 8,
   "id": "93ed494a-9983-400e-90ac-448ad74168c8",
   "metadata": {},
   "outputs": [],
   "source": [
    "ans.sort()"
   ]
  },
  {
   "cell_type": "code",
   "execution_count": 9,
   "id": "f4fc96f4-a11b-4895-b608-e9e989dd8dd0",
   "metadata": {},
   "outputs": [
    {
     "data": {
      "text/plain": [
       "[(11681.3291015625, [[1, 5, 20, 3, 0, 3, 4, 5, 0, 0, 0, 0, 1]]),\n",
       " (11722.3603515625, [[1, 6, 20, 3, 0, 3, 4, 5, 0, 0, 0, 0, 1]]),\n",
       " (11737.6630859375, [[1, 5, 18, 3, 1, 3, 4, 5, 0, 0, 0, 0, 1]]),\n",
       " (11745.583984375, [[1, 0, 5, 3, 0, 3, 4, 5, 0, 0, 0, 1, 0]]),\n",
       " (11753.853515625, [[0, 6, 20, 3, 0, 3, 4, 5, 0, 0, 0, 0, 1]]),\n",
       " (11807.3056640625, [[0, 5, 20, 3, 0, 3, 4, 5, 0, 0, 0, 0, 1]]),\n",
       " (11823.4052734375, [[1, 0, 0, 3, 1, 3, 4, 5, 0, 0, 0, 1, 0]]),\n",
       " (11848.3544921875, [[1, 0, 0, 3, 0, 3, 4, 5, 0, 0, 0, 1, 0]]),\n",
       " (11909.0478515625, [[0, 5, 15, 3, 1, 3, 4, 5, 0, 0, 1, 0, 0]])]"
      ]
     },
     "execution_count": 9,
     "metadata": {},
     "output_type": "execute_result"
    }
   ],
   "source": [
    "ans[-10: -1]"
   ]
  },
  {
   "cell_type": "code",
   "execution_count": 13,
   "id": "f315344b-3791-4ff5-ab6d-34314686dd84",
   "metadata": {},
   "outputs": [
    {
     "data": {
      "image/png": "[encoded data removed]",
      "text/plain": [
       "<Figure size 1000x800 with 1 Axes>"
      ]
     },
     "metadata": {},
     "output_type": "display_data"
    }
   ],
   "source": [
    "import matplotlib.pyplot as plt\n",
    "\n",
    "# Data\n",
    "data = ans[-10: -1]\n",
    "\n",
    "# Age mapping\n",
    "age_map = {0: \"0-17\", 1: \"18-25\", 2: \"26-35\", 3: \"36-45\", 4: \"46-50\", 5: \"51-55\", 6: \"55+\"}\n",
    "\n",
    "# Extracting values and labels\n",
    "values = [item[0] for item in data]\n",
    "labels = [\"Gender: \" + (\"Male\" if item[1][0][0] == 0 else \"Female\") + \n",
    "          \", Age: \" + age_map[item[1][0][1]] + \n",
    "          \", Occupation: \" + str(item[1][0][2]) + \n",
    "          \", Married: \" + (\"Yes\" if item[1][0][4] == 1 else \"No\") +\n",
    "          \",\" + (\"City A\" if item[1][0][10] == 1 else \"City B\" if item[1][0][11] == 1 else \"City C\") for item in data]\n",
    "\n",
    "# Plotting\n",
    "plt.figure(figsize=(10, 8))\n",
    "bars = plt.bar(range(len(values)), values, tick_label=labels)\n",
    "plt.xticks(rotation=90)\n",
    "plt.xlabel(\"Sample features\")\n",
    "plt.ylabel(\"Purchase\")\n",
    "plt.title(\"Bar Chart of different purchase by sample features\")\n",
    "\n",
    "# Adding labels to bars\n",
    "for bar in bars:\n",
    "    yval = bar.get_height()\n",
    "    plt.text(bar.get_x() + bar.get_width()/2.0, yval, round(yval, 2), va='bottom')  # va: vertical alignment\n",
    "\n",
    "plt.tight_layout()\n",
    "plt.show()"
   ]
  },
  {
   "cell_type": "code",
   "execution_count": null,
   "id": "6bef2983-576c-4d83-a630-0db1495fe5c0",
   "metadata": {},
   "outputs": [],
   "source": []
  }
 ],
 "metadata": {
  "environment": {
   "kernel": "python3",
   "name": "common-cpu.m111",
   "type": "gcloud",
   "uri": "gcr.io/deeplearning-platform-release/base-cpu:m111"
  },
  "kernelspec": {
   "display_name": "Python 3",
   "language": "python",
   "name": "python3"
  },
  "language_info": {
   "codemirror_mode": {
    "name": "ipython",
    "version": 3
   },
   "file_extension": ".py",
   "mimetype": "text/x-python",
   "name": "python",
   "nbconvert_exporter": "python",
   "pygments_lexer": "ipython3",
   "version": "3.7.12"
  }
 },
 "nbformat": 4,
 "nbformat_minor": 5
}
